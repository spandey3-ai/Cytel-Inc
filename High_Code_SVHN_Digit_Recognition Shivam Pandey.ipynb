{
 "cells": [
  {
   "cell_type": "markdown",
   "metadata": {
    "id": "Q91KqmCRu64D"
   },
   "source": [
    "# **Deep Learning Project: Street View Housing Number Digit Recognition**\n",
    "\n",
    "# **Marks: 60**\n",
    "\n",
    "--------------\n",
    "## **Context**\n",
    "--------------\n",
    "\n",
    "One of the most interesting tasks in deep learning is to recognize objects in natural scenes. The ability to process visual information using machine learning algorithms can be very useful as demonstrated in various applications.\n",
    "\n",
    "The SVHN dataset contains over 600,000 labeled digits cropped from street-level photos. It is one of the most popular image recognition datasets. It has been used in neural networks created by Google to improve the map quality by automatically transcribing the address numbers from a patch of pixels. The transcribed number with a known street address helps pinpoint the location of the building it represents.\n",
    "\n",
    "----------------\n",
    "## **Objective**\n",
    "----------------\n",
    "\n",
    "Our objective is to predict the number depicted inside the image by using Artificial or Fully Connected Feed Forward Neural Networks and Convolutional Neural Networks. We will go through various models of each and finally select the one that is giving us the best performance.\n",
    "\n",
    "-------------\n",
    "## **Dataset**\n",
    "-------------\n",
    "Here, we will use a subset of the original data to save some computation time. The dataset is provided as a .h5 file. The basic preprocessing steps have been applied on the dataset."
   ]
  },
  {
   "cell_type": "markdown",
   "metadata": {
    "id": "8z2Z7-OAs8QG"
   },
   "source": [
    "## **Mount the drive**\n",
    "\n",
    "Let us start by mounting the Google drive. You can run the below cell to mount the Google drive."
   ]
  },
  {
   "cell_type": "code",
   "execution_count": 6,
   "metadata": {
    "colab": {
     "base_uri": "https://localhost:8080/"
    },
    "id": "03lDyQUuef7z",
    "outputId": "dcdc187e-b91c-4deb-c1ec-00265715c64c"
   },
   "outputs": [
    {
     "name": "stdout",
     "output_type": "stream",
     "text": [
      "Mounted at /content/drive\n"
     ]
    }
   ],
   "source": [
    "from google.colab import drive\n",
    "\n",
    "drive.mount('/content/drive')"
   ]
  },
  {
   "cell_type": "markdown",
   "metadata": {
    "id": "C8U3DUa3eNsT"
   },
   "source": [
    "## **Importing the necessary libraries**"
   ]
  },
  {
   "cell_type": "code",
   "execution_count": 7,
   "metadata": {
    "id": "-dVzeuF3eQx1"
   },
   "outputs": [],
   "source": [
    "import numpy as np\n",
    "\n",
    "import pandas as pd\n",
    "\n",
    "import matplotlib.pyplot as plt\n",
    "\n",
    "import seaborn as sns\n",
    "\n",
    "from sklearn.model_selection import train_test_split\n",
    "\n",
    "from sklearn.preprocessing import MinMaxScaler\n",
    "\n",
    "import tensorflow as tf\n",
    "\n",
    "from tensorflow.keras.models import Sequential\n",
    "\n",
    "from tensorflow.keras.layers import Dense, Dropout, Activation, BatchNormalization\n",
    "\n",
    "from tensorflow.keras.losses import categorical_crossentropy\n",
    "\n",
    "from tensorflow.keras.optimizers import Adam\n",
    "\n",
    "from tensorflow.keras.utils import to_categorical"
   ]
  },
  {
   "cell_type": "markdown",
   "metadata": {
    "id": "ucnevGLoyKf_"
   },
   "source": [
    "**Let us check the version of tensorflow.**"
   ]
  },
  {
   "cell_type": "code",
   "execution_count": 8,
   "metadata": {
    "colab": {
     "base_uri": "https://localhost:8080/"
    },
    "id": "W5as47YxyJVk",
    "outputId": "db70b513-c450-4751-d921-b343606779a5"
   },
   "outputs": [
    {
     "name": "stdout",
     "output_type": "stream",
     "text": [
      "2.15.0\n"
     ]
    }
   ],
   "source": [
    "print(tf.__version__)"
   ]
  },
  {
   "cell_type": "markdown",
   "metadata": {
    "id": "8lsux2ZwyTTR"
   },
   "source": [
    "## **Load the dataset**\n",
    "\n",
    "- Let us now load the dataset that is available as a .h5 file.\n",
    "- Split the data into the train and the test dataset."
   ]
  },
  {
   "cell_type": "code",
   "execution_count": 9,
   "metadata": {
    "id": "BApX9qgNsqV0",
    "scrolled": true
   },
   "outputs": [],
   "source": [
    "import h5py\n",
    "\n",
    "# Open the file as read only\n",
    "# User can make changes in the path as required\n",
    "\n",
    "h5f = h5py.File('/content/drive/MyDrive/SVHN_single_grey1.h5', 'r')\n",
    "\n",
    "# Load the training and the test dataset\n",
    "\n",
    "X_train = h5f['X_train'][:]\n",
    "\n",
    "y_train = h5f['y_train'][:]\n",
    "\n",
    "X_test = h5f['X_test'][:]\n",
    "\n",
    "y_test = h5f['y_test'][:]\n",
    "\n",
    "# Close this file\n",
    "\n",
    "h5f.close()\n"
   ]
  },
  {
   "cell_type": "markdown",
   "metadata": {
    "id": "hVe0CYpUgj7w"
   },
   "source": [
    "Check the number of images in the training and the testing dataset."
   ]
  },
  {
   "cell_type": "code",
   "execution_count": 10,
   "metadata": {
    "colab": {
     "base_uri": "https://localhost:8080/"
    },
    "id": "K72bYAK5eMMe",
    "outputId": "7255fd48-8fe7-4c9b-f42d-621282a847da"
   },
   "outputs": [
    {
     "data": {
      "text/plain": [
       "(42000, 18000)"
      ]
     },
     "execution_count": 10,
     "metadata": {},
     "output_type": "execute_result"
    }
   ],
   "source": [
    "len(X_train), len(X_test)"
   ]
  },
  {
   "cell_type": "markdown",
   "metadata": {
    "id": "akTUOfLlgwoM"
   },
   "source": [
    "**Observation:**\n",
    "There are 42,000 images in the training data and 18,000 images in the testing data."
   ]
  },
  {
   "cell_type": "markdown",
   "metadata": {
    "id": "kxODV6HKykuc"
   },
   "source": [
    "## **Visualizing images**\n",
    "\n",
    "- Use X_train to visualize the first 10 images.\n",
    "- Use Y_train to print the first 10 labels."
   ]
  },
  {
   "cell_type": "code",
   "execution_count": 11,
   "metadata": {
    "colab": {
     "base_uri": "https://localhost:8080/",
     "height": 119
    },
    "id": "YJC0n_6JeiRo",
    "outputId": "ece6dcd6-7b58-46ba-f826-44bfb64fe151"
   },
   "outputs": [
    {
     "data": {
      "image/png": "[encoded data removed]",
      "text/plain": [
       "<Figure size 1000x100 with 10 Axes>"
      ]
     },
     "metadata": {},
     "output_type": "display_data"
    },
    {
     "name": "stdout",
     "output_type": "stream",
     "text": [
      "label for each of the above image: [2 6 7 4 4 0 3 0 7 3]\n"
     ]
    }
   ],
   "source": [
    "# Visualizing the first 10 images in the dataset and printing their labels\n",
    "\n",
    "plt.figure(figsize = (10, 1))\n",
    "\n",
    "for i in range(10):\n",
    "\n",
    "    plt.subplot(1, 10, i+1)\n",
    "\n",
    "    plt.imshow(X_train[i], cmap = \"gray\")\n",
    "\n",
    "    plt.axis('off')\n",
    "\n",
    "plt.show()\n",
    "\n",
    "print('label for each of the above image: %s' % (y_train[0:10]))"
   ]
  },
  {
   "cell_type": "markdown",
   "metadata": {
    "id": "kzoyeXHOy80N"
   },
   "source": [
    "## **Data preparation**\n",
    "\n",
    "- Print the shape and the array of pixels for the first image in the training dataset.\n",
    "- Normalize the train and the test dataset by dividing by 255.\n",
    "- Print the new shapes of the train and the test dataset.\n",
    "- One-hot encode the target variable."
   ]
  },
  {
   "cell_type": "code",
   "execution_count": 12,
   "metadata": {
    "colab": {
     "base_uri": "https://localhost:8080/"
    },
    "id": "q_yUUTp_mUzB",
    "outputId": "cbfa2624-412a-48f1-8394-dac4cec8d96f"
   },
   "outputs": [
    {
     "name": "stdout",
     "output_type": "stream",
     "text": [
      "Shape: (32, 32)\n",
      "\n",
      "First image:\n",
      " [[ 33.0704  30.2601  26.852  ...  71.4471  58.2204  42.9939]\n",
      " [ 25.2283  25.5533  29.9765 ... 113.0209 103.3639  84.2949]\n",
      " [ 26.2775  22.6137  40.4763 ... 113.3028 121.775  115.4228]\n",
      " ...\n",
      " [ 28.5502  36.212   45.0801 ...  24.1359  25.0927  26.0603]\n",
      " [ 38.4352  26.4733  23.2717 ...  28.1094  29.4683  30.0661]\n",
      " [ 50.2984  26.0773  24.0389 ...  49.6682  50.853   53.0377]]\n"
     ]
    }
   ],
   "source": [
    "# Shape and the array of pixels for the first image\n",
    "\n",
    "print(\"Shape:\", X_train[0].shape)\n",
    "\n",
    "print()\n",
    "\n",
    "print(\"First image:\\n\", X_train[0])"
   ]
  },
  {
   "cell_type": "code",
   "execution_count": 13,
   "metadata": {
    "id": "nhRHN_DveweH"
   },
   "outputs": [],
   "source": [
    "# Reshaping the dataset to flatten them. We are reshaping the 2D image into 1D array\n",
    "\n",
    "X_train = X_train.reshape(X_train.shape[0], 1024)\n",
    "\n",
    "X_test = X_test.reshape(X_test.shape[0], 1024)"
   ]
  },
  {
   "cell_type": "markdown",
   "metadata": {
    "id": "f4CQkKtQ0XII"
   },
   "source": [
    "### **Normalize the train and the test data**"
   ]
  },
  {
   "cell_type": "code",
   "execution_count": 14,
   "metadata": {
    "id": "5RJ8ZsnDY79c"
   },
   "outputs": [],
   "source": [
    "# Normalize inputs from 0-255 to 0-1\n",
    "# Ensure X_train and X_test are arrays\n",
    "#X_train = np.array(X_train)\n",
    "#X_test = np.array(X_test)"
   ]
  },
  {
   "cell_type": "code",
   "execution_count": 15,
   "metadata": {
    "id": "1RrroAOSaM8S"
   },
   "outputs": [],
   "source": [
    "X_train = X_train /255.0\n",
    "\n",
    "X_test = X_test /255.0"
   ]
  },
  {
   "cell_type": "code",
   "execution_count": 16,
   "metadata": {
    "colab": {
     "base_uri": "https://localhost:8080/"
    },
    "id": "TFmCYKXAZC1E",
    "outputId": "4957cf36-c88e-4319-aabc-88b55304a9e0"
   },
   "outputs": [
    {
     "name": "stdout",
     "output_type": "stream",
     "text": [
      "Training set: (42000, 1024) (42000,)\n",
      "Test set: (18000, 1024) (18000,)\n"
     ]
    }
   ],
   "source": [
    "# New shape\n",
    "\n",
    "print('Training set:', X_train.shape, y_train.shape)\n",
    "\n",
    "print('Test set:', X_test.shape, y_test.shape)"
   ]
  },
  {
   "cell_type": "markdown",
   "metadata": {
    "id": "YSlYN6pb8kMY"
   },
   "source": [
    "Print the shapes of Training and Test data"
   ]
  },
  {
   "cell_type": "markdown",
   "metadata": {
    "id": "0uLxXBpz81vk"
   },
   "source": [
    "### **One-hot encode output**"
   ]
  },
  {
   "cell_type": "code",
   "execution_count": 17,
   "metadata": {
    "colab": {
     "base_uri": "https://localhost:8080/"
    },
    "id": "t7FSqOpamWkH",
    "outputId": "aa2bf9fd-a6d7-4267-86d0-0ad8bebf5e6e"
   },
   "outputs": [
    {
     "data": {
      "text/plain": [
       "array([[0., 1., 0., ..., 0., 0., 0.],\n",
       "       [0., 0., 0., ..., 1., 0., 0.],\n",
       "       [0., 0., 1., ..., 0., 0., 0.],\n",
       "       ...,\n",
       "       [0., 0., 0., ..., 1., 0., 0.],\n",
       "       [0., 0., 0., ..., 0., 0., 1.],\n",
       "       [0., 0., 1., ..., 0., 0., 0.]], dtype=float32)"
      ]
     },
     "execution_count": 17,
     "metadata": {},
     "output_type": "execute_result"
    }
   ],
   "source": [
    "# One-hot encode output\n",
    "\n",
    "y_train = to_categorical(y_train)\n",
    "\n",
    "y_test = to_categorical(y_test)\n",
    "\n",
    "# Test labels\n",
    "\n",
    "y_test"
   ]
  },
  {
   "cell_type": "markdown",
   "metadata": {
    "id": "ViqPOTquCF76"
   },
   "source": [
    "**Observation:**\n",
    "Notice that each entry of the target variable is a one-hot encoded vector instead of a single label."
   ]
  },
  {
   "cell_type": "markdown",
   "metadata": {
    "id": "yH-gVrzuByNA"
   },
   "source": [
    "## **Model Building**\n",
    "\n",
    "Now that we have done the data preprocessing, let's build an ANN model.\n",
    "\n",
    "### Fix the seed for random number generators"
   ]
  },
  {
   "cell_type": "code",
   "execution_count": 18,
   "metadata": {
    "id": "BcKRwrGn0XIL"
   },
   "outputs": [],
   "source": [
    "# Fixing the seed for random number generators\n",
    "\n",
    "np.random.seed(42)\n",
    "\n",
    "import random\n",
    "\n",
    "random.seed(42)\n",
    "\n",
    "tf.random.set_seed(42)"
   ]
  },
  {
   "cell_type": "markdown",
   "metadata": {
    "id": "UJDUoaEj1d6e"
   },
   "source": [
    "### **Model Architecture**\n",
    "- Write a function that returns a sequential model with the following architecture:\n",
    " - First hidden layer with **64 nodes and the relu activation** and the **input shape = (1024, )**\n",
    " - Second hidden layer with **32 nodes and the relu activation**\n",
    " - Output layer with **activation as 'softmax' and number of nodes equal to the number of classes, i.e., 10**\n",
    " - Compile the model with the **loss equal to categorical_crossentropy, optimizer equal to Adam(learning_rate = 0.001), and metric equal to 'accuracy'**. Do not fit the model here, just return the compiled model.\n",
    "- Call the nn_model_1 function and store the model in a new variable.\n",
    "- Print the summary of the model.\n",
    "- Fit on the train data with a **validation split of 0.2, batch size = 128, verbose = 1, and epochs = 20**. Store the model building history to use later for visualization."
   ]
  },
  {
   "cell_type": "markdown",
   "metadata": {
    "id": "A48z6ucF0XIP"
   },
   "source": [
    "### **Build and train an ANN model as per the above mentioned architecture.**"
   ]
  },
  {
   "cell_type": "code",
   "execution_count": 19,
   "metadata": {
    "id": "Cmi81Gr5sqW-"
   },
   "outputs": [],
   "source": [
    "# Define the model\n",
    "\n",
    "def nn_model_1():\n",
    "\n",
    "    model = Sequential()\n",
    "\n",
    "    # Add layers as per the architecture mentioned above in the same sequence\n",
    "\n",
    "     # First hidden layer with 64 nodes and relu activation\n",
    "    model.add(Dense(64, activation='relu', input_shape=(1024,)))\n",
    "\n",
    "   # Second hidden layer with 32 nodes and relu activation\n",
    "    model.add(Dense(32, activation='relu'))\n",
    "\n",
    "     # Output layer with softmax activation for multiclass classification\n",
    "    model.add(Dense(10, activation='softmax'))\n",
    "\n",
    "    # Compile the model\n",
    "\n",
    "    model.compile(loss='categorical_crossentropy',\n",
    "                  optimizer=Adam(learning_rate=0.001),\n",
    "                  metrics=['accuracy'])\n",
    "\n",
    "    return model"
   ]
  },
  {
   "cell_type": "code",
   "execution_count": 20,
   "metadata": {
    "id": "kLRi9LcTgQM9"
   },
   "outputs": [],
   "source": [
    "# Create the model\n",
    "nn_model = nn_model_1()\n",
    "\n"
   ]
  },
  {
   "cell_type": "code",
   "execution_count": 21,
   "metadata": {
    "colab": {
     "base_uri": "https://localhost:8080/"
    },
    "id": "tsy7X7YPgdD7",
    "outputId": "f5cf2e8a-9659-4993-d31e-00b0742e8338"
   },
   "outputs": [
    {
     "name": "stdout",
     "output_type": "stream",
     "text": [
      "Model: \"sequential_1\"\n",
      "_________________________________________________________________\n",
      " Layer (type)                Output Shape              Param #   \n",
      "=================================================================\n",
      " dense_2 (Dense)             (None, 64)                65600     \n",
      "                                                                 \n",
      " dense_3 (Dense)             (None, 32)                2080      \n",
      "                                                                 \n",
      " dense_4 (Dense)             (None, 10)                330       \n",
      "                                                                 \n",
      "=================================================================\n",
      "Total params: 68010 (265.66 KB)\n",
      "Trainable params: 68010 (265.66 KB)\n",
      "Non-trainable params: 0 (0.00 Byte)\n",
      "_________________________________________________________________\n"
     ]
    }
   ],
   "source": [
    "# Print model summary\n",
    "nn_model.summary()"
   ]
  },
  {
   "cell_type": "code",
   "execution_count": 22,
   "metadata": {
    "colab": {
     "base_uri": "https://localhost:8080/"
    },
    "id": "QTAOv5ELgrK6",
    "outputId": "d37cd4c7-afdc-4ace-f666-289381eb47c2"
   },
   "outputs": [
    {
     "name": "stdout",
     "output_type": "stream",
     "text": [
      "Epoch 1/20\n",
      "263/263 [==============================] - 3s 6ms/step - loss: 2.2934 - accuracy: 0.1233 - val_loss: 2.2324 - val_accuracy: 0.1744\n",
      "Epoch 2/20\n",
      "263/263 [==============================] - 1s 5ms/step - loss: 2.0774 - accuracy: 0.2509 - val_loss: 1.9318 - val_accuracy: 0.3089\n",
      "Epoch 3/20\n",
      "263/263 [==============================] - 2s 6ms/step - loss: 1.8679 - accuracy: 0.3405 - val_loss: 1.7779 - val_accuracy: 0.3869\n",
      "Epoch 4/20\n",
      "263/263 [==============================] - 2s 8ms/step - loss: 1.6573 - accuracy: 0.4391 - val_loss: 1.5288 - val_accuracy: 0.4907\n",
      "Epoch 5/20\n",
      "263/263 [==============================] - 1s 5ms/step - loss: 1.4635 - accuracy: 0.5180 - val_loss: 1.4202 - val_accuracy: 0.5255\n",
      "Epoch 6/20\n",
      "263/263 [==============================] - 1s 5ms/step - loss: 1.3588 - accuracy: 0.5568 - val_loss: 1.3240 - val_accuracy: 0.5768\n",
      "Epoch 7/20\n",
      "263/263 [==============================] - 2s 6ms/step - loss: 1.2895 - accuracy: 0.5839 - val_loss: 1.2558 - val_accuracy: 0.6013\n",
      "Epoch 8/20\n",
      "263/263 [==============================] - 1s 5ms/step - loss: 1.2375 - accuracy: 0.6044 - val_loss: 1.2217 - val_accuracy: 0.6221\n",
      "Epoch 9/20\n",
      "263/263 [==============================] - 1s 5ms/step - loss: 1.1990 - accuracy: 0.6206 - val_loss: 1.1674 - val_accuracy: 0.6330\n",
      "Epoch 10/20\n",
      "263/263 [==============================] - 1s 4ms/step - loss: 1.1666 - accuracy: 0.6334 - val_loss: 1.1484 - val_accuracy: 0.6420\n",
      "Epoch 11/20\n",
      "263/263 [==============================] - 1s 5ms/step - loss: 1.1465 - accuracy: 0.6399 - val_loss: 1.1256 - val_accuracy: 0.6462\n",
      "Epoch 12/20\n",
      "263/263 [==============================] - 1s 5ms/step - loss: 1.1239 - accuracy: 0.6485 - val_loss: 1.1110 - val_accuracy: 0.6533\n",
      "Epoch 13/20\n",
      "263/263 [==============================] - 2s 7ms/step - loss: 1.1017 - accuracy: 0.6589 - val_loss: 1.0951 - val_accuracy: 0.6612\n",
      "Epoch 14/20\n",
      "263/263 [==============================] - 2s 8ms/step - loss: 1.0981 - accuracy: 0.6596 - val_loss: 1.0940 - val_accuracy: 0.6620\n",
      "Epoch 15/20\n",
      "263/263 [==============================] - 1s 4ms/step - loss: 1.0854 - accuracy: 0.6636 - val_loss: 1.0948 - val_accuracy: 0.6650\n",
      "Epoch 16/20\n",
      "263/263 [==============================] - 1s 5ms/step - loss: 1.0715 - accuracy: 0.6682 - val_loss: 1.1295 - val_accuracy: 0.6475\n",
      "Epoch 17/20\n",
      "263/263 [==============================] - 1s 5ms/step - loss: 1.0626 - accuracy: 0.6713 - val_loss: 1.0618 - val_accuracy: 0.6744\n",
      "Epoch 18/20\n",
      "263/263 [==============================] - 1s 5ms/step - loss: 1.0535 - accuracy: 0.6746 - val_loss: 1.0626 - val_accuracy: 0.6702\n",
      "Epoch 19/20\n",
      "263/263 [==============================] - 2s 7ms/step - loss: 1.0486 - accuracy: 0.6745 - val_loss: 1.0610 - val_accuracy: 0.6736\n",
      "Epoch 20/20\n",
      "263/263 [==============================] - 1s 6ms/step - loss: 1.0420 - accuracy: 0.6770 - val_loss: 1.0535 - val_accuracy: 0.6745\n"
     ]
    }
   ],
   "source": [
    "# Assuming X_train and y_train are your training data and labels\n",
    "history_model_2 = nn_model.fit(X_train, y_train, validation_split=0.2, batch_size=128, epochs=20, verbose=1)"
   ]
  },
  {
   "cell_type": "markdown",
   "metadata": {
    "id": "MeF8XSWz0XIU"
   },
   "source": [
    "### **Plot the Training and Validation Accuracies and write down your Observations.**"
   ]
  },
  {
   "cell_type": "code",
   "execution_count": 23,
   "metadata": {
    "colab": {
     "base_uri": "https://localhost:8080/",
     "height": 697
    },
    "id": "lt77zgGMP4yw",
    "outputId": "c8a07f29-44ba-470a-a277-85208fcf6e5c"
   },
   "outputs": [
    {
     "data": {
      "image/png": "[encoded data removed]",
      "text/plain": [
       "<Figure size 800x800 with 1 Axes>"
      ]
     },
     "metadata": {},
     "output_type": "display_data"
    }
   ],
   "source": [
    "# Plotting the accuracies\n",
    "\n",
    "dict_hist = history_model_2.history\n",
    "\n",
    "list_ep = [i for i in range(1, 21)]\n",
    "\n",
    "plt.figure(figsize = (8, 8))\n",
    "\n",
    "plt.plot(list_ep, dict_hist['accuracy'], ls = '--', label = 'accuracy')\n",
    "\n",
    "plt.plot(list_ep, dict_hist['val_accuracy'], ls = '--', label = 'val_accuracy')\n",
    "\n",
    "plt.ylabel('Accuracy')\n",
    "\n",
    "plt.xlabel('Epochs')\n",
    "\n",
    "plt.legend()\n",
    "\n",
    "plt.show()"
   ]
  },
  {
   "cell_type": "markdown",
   "metadata": {
    "id": "pGBbQpLONX7k"
   },
   "source": [
    "**Observations:_______**\n",
    "Training Accuracy Trend: The plot shows how the training accuracy changes over epochs. Ideally, we expect the training accuracy to increase or plateau as the model learns from the training data. If the training accuracy continues to increase with each epoch, it suggests that the model is still learning and improving its performance on the training set.\n",
    "Here we see that validation accuracy is better than the training accuracy. With the increase in epochs the validation accuracy flutuates and drops than the training accuracy. This indicates that the model is not apprpriately fitting."
   ]
  },
  {
   "cell_type": "markdown",
   "metadata": {
    "id": "z0qgLMBZm5-K"
   },
   "source": [
    "Let's build one more model with higher complexity and see if we can improve the performance of the model.\n",
    "\n",
    "First, we need to clear the previous model's history from the Keras backend. Also, let's fix the seed again after clearing the backend."
   ]
  },
  {
   "cell_type": "code",
   "execution_count": 24,
   "metadata": {
    "id": "I_ih3wEU9wIk"
   },
   "outputs": [],
   "source": [
    "# Clearing backend\n",
    "\n",
    "from tensorflow.keras import backend\n",
    "\n",
    "backend.clear_session()"
   ]
  },
  {
   "cell_type": "code",
   "execution_count": 25,
   "metadata": {
    "id": "NihCTP2ShtYn"
   },
   "outputs": [],
   "source": [
    "# Fixing the seed for random number generators\n",
    "\n",
    "np.random.seed(42)\n",
    "\n",
    "import random\n",
    "\n",
    "random.seed(42)\n",
    "\n",
    "tf.random.set_seed(42)"
   ]
  },
  {
   "cell_type": "markdown",
   "metadata": {
    "id": "lT6o3TIKuCtk"
   },
   "source": [
    "### **Second Model Architecture**\n",
    "- Write a function that returns a sequential model with the following architecture:\n",
    " - First hidden layer with **256 nodes and the relu activation** and the **input shape = (1024, )**\n",
    " - Second hidden layer with **128 nodes and the relu activation**\n",
    " - Add the **Dropout layer with the rate equal to 0.2**\n",
    " - Third hidden layer with **64 nodes and the relu activation**\n",
    " - Fourth hidden layer with **64 nodes and the relu activation**\n",
    " - Fifth hidden layer with **32 nodes and the relu activation**\n",
    " - Add the **BatchNormalization layer**\n",
    " - Output layer with **activation as 'softmax' and number of nodes equal to the number of classes, i.e., 10**\n",
    " -Compile the model with the **loss equal to categorical_crossentropy, optimizer equal to Adam(learning_rate = 0.0005), and metric equal to 'accuracy'**. Do not fit the model here, just return the compiled model.\n",
    "- Call the nn_model_2 function and store the model in a new variable.\n",
    "- Print the summary of the model.\n",
    "- Fit on the train data with a **validation split of 0.2, batch size = 128, verbose = 1, and epochs = 30**. Store the model building history to use later for visualization."
   ]
  },
  {
   "cell_type": "markdown",
   "metadata": {
    "id": "f-ZjNBmH0XIV"
   },
   "source": [
    "### **Build and train the new ANN model as per the above mentioned architecture**"
   ]
  },
  {
   "cell_type": "code",
   "execution_count": 26,
   "metadata": {
    "id": "EEPYLFIPnSDP"
   },
   "outputs": [],
   "source": [
    "from tensorflow.keras.models import Sequential\n",
    "from tensorflow.keras.layers import Dense, Dropout, BatchNormalization\n",
    "from tensorflow.keras.optimizers import Adam"
   ]
  },
  {
   "cell_type": "code",
   "execution_count": 27,
   "metadata": {
    "id": "HeIG1NZziFzq"
   },
   "outputs": [],
   "source": [
    "def nn_model_2():\n",
    "    model = Sequential()\n",
    "\n",
    "    # First hidden layer with 256 nodes and relu activation\n",
    "    model.add(Dense(256, activation='relu', input_shape=(1024,)))\n",
    "\n",
    "    # Second hidden layer with 128 nodes and relu activation\n",
    "    model.add(Dense(128, activation='relu'))\n",
    "\n",
    "    # Add Dropout layer with rate 0.2\n",
    "    model.add(Dropout(0.2))\n",
    "\n",
    "    # Third hidden layer with 64 nodes and relu activation\n",
    "    model.add(Dense(64, activation='relu'))\n",
    "\n",
    "    # Fourth hidden layer with 64 nodes and relu activation\n",
    "    model.add(Dense(64, activation='relu'))\n",
    "\n",
    "    # Fifth hidden layer with 32 nodes and relu activation\n",
    "    model.add(Dense(32, activation='relu'))\n",
    "\n",
    "    # Add BatchNormalization layer\n",
    "    model.add(BatchNormalization())\n",
    "\n",
    "    # Output layer with softmax activation for multiclass classification\n",
    "    model.add(Dense(10, activation='softmax'))\n",
    "\n",
    "    # Compile the model\n",
    "    model.compile(loss='categorical_crossentropy',\n",
    "                  optimizer=Adam(learning_rate=0.0005),\n",
    "                  metrics=['accuracy'])\n",
    "\n",
    "    return model"
   ]
  },
  {
   "cell_type": "code",
   "execution_count": 28,
   "metadata": {
    "id": "dS9N_te7iGBn"
   },
   "outputs": [],
   "source": [
    "# Build the model\n",
    "\n",
    "model_2 = nn_model_2()"
   ]
  },
  {
   "cell_type": "code",
   "execution_count": 29,
   "metadata": {
    "colab": {
     "base_uri": "https://localhost:8080/"
    },
    "id": "GZqqXcLtiGOG",
    "outputId": "7e8b7351-96e7-4a0c-d1ea-fbd0e8b18f0e"
   },
   "outputs": [
    {
     "name": "stdout",
     "output_type": "stream",
     "text": [
      "Model: \"sequential\"\n",
      "_________________________________________________________________\n",
      " Layer (type)                Output Shape              Param #   \n",
      "=================================================================\n",
      " dense (Dense)               (None, 256)               262400    \n",
      "                                                                 \n",
      " dense_1 (Dense)             (None, 128)               32896     \n",
      "                                                                 \n",
      " dropout (Dropout)           (None, 128)               0         \n",
      "                                                                 \n",
      " dense_2 (Dense)             (None, 64)                8256      \n",
      "                                                                 \n",
      " dense_3 (Dense)             (None, 64)                4160      \n",
      "                                                                 \n",
      " dense_4 (Dense)             (None, 32)                2080      \n",
      "                                                                 \n",
      " batch_normalization (Batch  (None, 32)                128       \n",
      " Normalization)                                                  \n",
      "                                                                 \n",
      " dense_5 (Dense)             (None, 10)                330       \n",
      "                                                                 \n",
      "=================================================================\n",
      "Total params: 310250 (1.18 MB)\n",
      "Trainable params: 310186 (1.18 MB)\n",
      "Non-trainable params: 64 (256.00 Byte)\n",
      "_________________________________________________________________\n"
     ]
    }
   ],
   "source": [
    "# Print model summary\n",
    "model_2.summary()"
   ]
  },
  {
   "cell_type": "code",
   "execution_count": 30,
   "metadata": {
    "colab": {
     "base_uri": "https://localhost:8080/"
    },
    "id": "wwTfK6VJixfo",
    "outputId": "d39c140a-24f6-4f1a-fc38-b0bbbc9ca8d4"
   },
   "outputs": [
    {
     "name": "stdout",
     "output_type": "stream",
     "text": [
      "Epoch 1/30\n",
      "263/263 [==============================] - 6s 15ms/step - loss: 2.3300 - accuracy: 0.1007 - val_loss: 2.3138 - val_accuracy: 0.0967\n",
      "Epoch 2/30\n",
      "263/263 [==============================] - 3s 11ms/step - loss: 2.3042 - accuracy: 0.1028 - val_loss: 2.3015 - val_accuracy: 0.1100\n",
      "Epoch 3/30\n",
      "263/263 [==============================] - 3s 11ms/step - loss: 2.1699 - accuracy: 0.1746 - val_loss: 2.0564 - val_accuracy: 0.2769\n",
      "Epoch 4/30\n",
      "263/263 [==============================] - 3s 10ms/step - loss: 1.6402 - accuracy: 0.4238 - val_loss: 1.4454 - val_accuracy: 0.5273\n",
      "Epoch 5/30\n",
      "263/263 [==============================] - 4s 16ms/step - loss: 1.3608 - accuracy: 0.5385 - val_loss: 1.3064 - val_accuracy: 0.5701\n",
      "Epoch 6/30\n",
      "263/263 [==============================] - 3s 11ms/step - loss: 1.2484 - accuracy: 0.5870 - val_loss: 1.1214 - val_accuracy: 0.6388\n",
      "Epoch 7/30\n",
      "263/263 [==============================] - 3s 10ms/step - loss: 1.1568 - accuracy: 0.6251 - val_loss: 1.1023 - val_accuracy: 0.6400\n",
      "Epoch 8/30\n",
      "263/263 [==============================] - 4s 14ms/step - loss: 1.0930 - accuracy: 0.6474 - val_loss: 1.0609 - val_accuracy: 0.6599\n",
      "Epoch 9/30\n",
      "263/263 [==============================] - 4s 16ms/step - loss: 1.0410 - accuracy: 0.6645 - val_loss: 0.9592 - val_accuracy: 0.6988\n",
      "Epoch 10/30\n",
      "263/263 [==============================] - 3s 11ms/step - loss: 1.0024 - accuracy: 0.6768 - val_loss: 1.0474 - val_accuracy: 0.6630\n",
      "Epoch 11/30\n",
      "263/263 [==============================] - 3s 10ms/step - loss: 0.9695 - accuracy: 0.6920 - val_loss: 0.9080 - val_accuracy: 0.7135\n",
      "Epoch 12/30\n",
      "263/263 [==============================] - 3s 11ms/step - loss: 0.9443 - accuracy: 0.7001 - val_loss: 0.9193 - val_accuracy: 0.7099\n",
      "Epoch 13/30\n",
      "263/263 [==============================] - 4s 14ms/step - loss: 0.9161 - accuracy: 0.7080 - val_loss: 0.8728 - val_accuracy: 0.7248\n",
      "Epoch 14/30\n",
      "263/263 [==============================] - 3s 13ms/step - loss: 0.9076 - accuracy: 0.7126 - val_loss: 0.8793 - val_accuracy: 0.7201\n",
      "Epoch 15/30\n",
      "263/263 [==============================] - 3s 11ms/step - loss: 0.8895 - accuracy: 0.7186 - val_loss: 0.8371 - val_accuracy: 0.7340\n",
      "Epoch 16/30\n",
      "263/263 [==============================] - 3s 10ms/step - loss: 0.8590 - accuracy: 0.7280 - val_loss: 0.8546 - val_accuracy: 0.7277\n",
      "Epoch 17/30\n",
      "263/263 [==============================] - 3s 10ms/step - loss: 0.8568 - accuracy: 0.7273 - val_loss: 0.8223 - val_accuracy: 0.7383\n",
      "Epoch 18/30\n",
      "263/263 [==============================] - 4s 15ms/step - loss: 0.8312 - accuracy: 0.7356 - val_loss: 0.8244 - val_accuracy: 0.7407\n",
      "Epoch 19/30\n",
      "263/263 [==============================] - 3s 10ms/step - loss: 0.8291 - accuracy: 0.7371 - val_loss: 0.8251 - val_accuracy: 0.7390\n",
      "Epoch 20/30\n",
      "263/263 [==============================] - 3s 10ms/step - loss: 0.8162 - accuracy: 0.7404 - val_loss: 0.7838 - val_accuracy: 0.7620\n",
      "Epoch 21/30\n",
      "263/263 [==============================] - 3s 11ms/step - loss: 0.8021 - accuracy: 0.7452 - val_loss: 0.7785 - val_accuracy: 0.7565\n",
      "Epoch 22/30\n",
      "263/263 [==============================] - 4s 13ms/step - loss: 0.7961 - accuracy: 0.7456 - val_loss: 0.7970 - val_accuracy: 0.7454\n",
      "Epoch 23/30\n",
      "263/263 [==============================] - 3s 13ms/step - loss: 0.7706 - accuracy: 0.7554 - val_loss: 0.8123 - val_accuracy: 0.7467\n",
      "Epoch 24/30\n",
      "263/263 [==============================] - 3s 11ms/step - loss: 0.7640 - accuracy: 0.7560 - val_loss: 0.7439 - val_accuracy: 0.7695\n",
      "Epoch 25/30\n",
      "263/263 [==============================] - 3s 10ms/step - loss: 0.7580 - accuracy: 0.7611 - val_loss: 0.7591 - val_accuracy: 0.7610\n",
      "Epoch 26/30\n",
      "263/263 [==============================] - 3s 11ms/step - loss: 0.7625 - accuracy: 0.7589 - val_loss: 0.7496 - val_accuracy: 0.7717\n",
      "Epoch 27/30\n",
      "263/263 [==============================] - 4s 17ms/step - loss: 0.7435 - accuracy: 0.7633 - val_loss: 0.7357 - val_accuracy: 0.7724\n",
      "Epoch 28/30\n",
      "263/263 [==============================] - 3s 11ms/step - loss: 0.7304 - accuracy: 0.7677 - val_loss: 0.6966 - val_accuracy: 0.7904\n",
      "Epoch 29/30\n",
      "263/263 [==============================] - 3s 11ms/step - loss: 0.7363 - accuracy: 0.7663 - val_loss: 0.7326 - val_accuracy: 0.7724\n",
      "Epoch 30/30\n",
      "263/263 [==============================] - 3s 11ms/step - loss: 0.7224 - accuracy: 0.7718 - val_loss: 0.8329 - val_accuracy: 0.7490\n"
     ]
    }
   ],
   "source": [
    "history = model_2.fit(X_train, y_train, validation_split=0.2, batch_size=128, epochs=30, verbose=1)"
   ]
  },
  {
   "cell_type": "markdown",
   "metadata": {
    "id": "ZJYsvjmw0XIX"
   },
   "source": [
    "### **Plot the Training and Validation Accuracies and write down your Observations.**"
   ]
  },
  {
   "cell_type": "code",
   "execution_count": 31,
   "metadata": {
    "colab": {
     "base_uri": "https://localhost:8080/",
     "height": 696
    },
    "id": "01ig6BrF1KVy",
    "outputId": "af410414-c16d-4f5a-e0ea-31c92c59364b"
   },
   "outputs": [
    {
     "data": {
      "image/png": "[encoded data removed]",
      "text/plain": [
       "<Figure size 800x800 with 1 Axes>"
      ]
     },
     "metadata": {},
     "output_type": "display_data"
    }
   ],
   "source": [
    "# Plotting the accuracies\n",
    "\n",
    "dict_hist = history.history\n",
    "\n",
    "list_ep = [i for i in range(1, 31)]\n",
    "\n",
    "plt.figure(figsize = (8, 8))\n",
    "\n",
    "plt.plot(list_ep, dict_hist['accuracy'], ls = '--', label = 'accuracy')\n",
    "\n",
    "plt.plot(list_ep, dict_hist['val_accuracy'], ls = '--', label = 'val_accuracy')\n",
    "\n",
    "plt.ylabel('Accuracy')\n",
    "\n",
    "plt.xlabel('Epochs')\n",
    "\n",
    "plt.legend()\n",
    "\n",
    "plt.show()"
   ]
  },
  {
   "cell_type": "markdown",
   "metadata": {
    "id": "VPW1LlD61RDn"
   },
   "source": [
    "**Observations:_______**\n",
    "The second iteration of this model seems very promising now.\n",
    "The validation accuracy has improved substantially and the problem of fitting has been solved. We can say that the model is giving a generalized performance."
   ]
  },
  {
   "cell_type": "markdown",
   "metadata": {
    "id": "8kuXx9Bvu00f"
   },
   "source": [
    "## **Predictions on the test data**\n",
    "\n",
    "- Make predictions on the test set using the second model.\n",
    "- Print the obtained results using the classification report and the confusion matrix.\n",
    "- Final observations on the obtained results."
   ]
  },
  {
   "cell_type": "code",
   "execution_count": 32,
   "metadata": {
    "colab": {
     "base_uri": "https://localhost:8080/"
    },
    "id": "xbWMEtTj5Ad0",
    "outputId": "8d5acf03-95d0-45a7-e6df-3da9b11b31fd"
   },
   "outputs": [
    {
     "name": "stdout",
     "output_type": "stream",
     "text": [
      "563/563 [==============================] - 2s 3ms/step\n"
     ]
    }
   ],
   "source": [
    "test_pred = model_2.predict(X_test)\n",
    "\n",
    "test_pred = np.argmax(test_pred, axis = -1)"
   ]
  },
  {
   "cell_type": "markdown",
   "metadata": {
    "id": "i3li8Ib08yts"
   },
   "source": [
    "**Note:** Earlier, we noticed that each entry of the target variable is a one-hot encoded vector but to print the classification report and confusion matrix, we must convert each entry of y_test to a single label."
   ]
  },
  {
   "cell_type": "code",
   "execution_count": 33,
   "metadata": {
    "id": "NByu7uAQ8x9P"
   },
   "outputs": [],
   "source": [
    "# Converting each entry to single label from one-hot encoded vector\n",
    "\n",
    "y_test = np.argmax(y_test, axis = -1)"
   ]
  },
  {
   "cell_type": "markdown",
   "metadata": {
    "id": "1_SIoopr0XIg"
   },
   "source": [
    "### **Print the classification report and the confusion matrix for the test predictions. Write your observations on the final results.**"
   ]
  },
  {
   "cell_type": "code",
   "execution_count": 34,
   "metadata": {
    "colab": {
     "base_uri": "https://localhost:8080/",
     "height": 761
    },
    "id": "xRddeJ-3EHT1",
    "outputId": "fc0a534c-2ee7-4d7a-e529-ec38abd0431e"
   },
   "outputs": [
    {
     "name": "stdout",
     "output_type": "stream",
     "text": [
      "              precision    recall  f1-score   support\n",
      "\n",
      "           0       0.86      0.70      0.77      1814\n",
      "           1       0.59      0.89      0.71      1828\n",
      "           2       0.76      0.77      0.76      1803\n",
      "           3       0.78      0.67      0.72      1719\n",
      "           4       0.73      0.85      0.79      1812\n",
      "           5       0.82      0.67      0.73      1768\n",
      "           6       0.76      0.72      0.74      1832\n",
      "           7       0.75      0.82      0.78      1808\n",
      "           8       0.71      0.71      0.71      1812\n",
      "           9       0.83      0.65      0.73      1804\n",
      "\n",
      "    accuracy                           0.74     18000\n",
      "   macro avg       0.76      0.74      0.74     18000\n",
      "weighted avg       0.76      0.74      0.74     18000\n",
      "\n"
     ]
    },
    {
     "data": {
      "image/png": "[encoded data removed]",
      "text/plain": [
       "<Figure size 800x500 with 2 Axes>"
      ]
     },
     "metadata": {},
     "output_type": "display_data"
    }
   ],
   "source": [
    "# Importing required functions\n",
    "\n",
    "from sklearn.metrics import classification_report\n",
    "\n",
    "from sklearn.metrics import confusion_matrix\n",
    "\n",
    "# Printing the classification report\n",
    "# Printing the classification report\n",
    "print(classification_report(y_test, test_pred))\n",
    "\n",
    "\n",
    "# Plotting the heatmap using confusion matrix\n",
    "\n",
    "cm = confusion_matrix(y_test, test_pred)\n",
    "\n",
    "plt.figure(figsize = (8, 5))\n",
    "\n",
    "sns.heatmap(cm, annot = True,  fmt = '.0f')\n",
    "\n",
    "plt.ylabel('Actual')\n",
    "\n",
    "plt.xlabel('Predicted')\n",
    "\n",
    "plt.show()"
   ]
  },
  {
   "cell_type": "markdown",
   "metadata": {
    "id": "DjErl4GA2u9s"
   },
   "source": [
    "**Final Observations:__________**\n",
    "The model is giving about 74% accuracy on the test data which is comparable to the accuracy of the validation data. This implies that the model is giving a generalized performance."
   ]
  },
  {
   "cell_type": "markdown",
   "metadata": {
    "id": "xkR4JioMsuIV"
   },
   "source": [
    "## **Using Convolutional Neural Networks**"
   ]
  },
  {
   "cell_type": "markdown",
   "metadata": {
    "id": "YN2YgkGL_6xQ"
   },
   "source": [
    "### **Load the dataset again and split the data into the train and the test dataset.**"
   ]
  },
  {
   "cell_type": "code",
   "execution_count": 35,
   "metadata": {
    "id": "mqM204HbAjP2",
    "scrolled": true
   },
   "outputs": [],
   "source": [
    "import h5py\n",
    "\n",
    "# Open the file as read only\n",
    "# User can make changes in the path as required\n",
    "\n",
    "h5f = h5py.File('/content/drive/MyDrive/SVHN_single_grey1.h5', 'r')\n",
    "\n",
    "# Load the training and the test dataset\n",
    "\n",
    "X_train = h5f['X_train'][:]\n",
    "\n",
    "y_train = h5f['y_train'][:]\n",
    "\n",
    "X_test = h5f['X_test'][:]\n",
    "\n",
    "y_test = h5f['y_test'][:]\n",
    "\n",
    "\n",
    "# Close this file\n",
    "\n",
    "h5f.close()"
   ]
  },
  {
   "cell_type": "markdown",
   "metadata": {
    "id": "6fPqF_xGAjQB"
   },
   "source": [
    "Check the number of images in the training and the testing dataset."
   ]
  },
  {
   "cell_type": "code",
   "execution_count": 36,
   "metadata": {
    "colab": {
     "base_uri": "https://localhost:8080/"
    },
    "id": "gTLJZWjPAjQB",
    "outputId": "642efd7d-1968-4da3-f8f6-21851d7bc983"
   },
   "outputs": [
    {
     "data": {
      "text/plain": [
       "(42000, 18000)"
      ]
     },
     "execution_count": 36,
     "metadata": {},
     "output_type": "execute_result"
    }
   ],
   "source": [
    "len(X_train), len(X_test)"
   ]
  },
  {
   "cell_type": "markdown",
   "metadata": {
    "id": "9qyMiP_rAjQB"
   },
   "source": [
    "**Observation:**\n",
    "There are 42,000 images in the training data and 18,000 images in the testing data."
   ]
  },
  {
   "cell_type": "markdown",
   "metadata": {
    "id": "OJndFfEVAjQG"
   },
   "source": [
    "## **Data preparation**\n",
    "\n",
    "- Print the shape and the array of pixels for the first image in the training dataset.\n",
    "- Reshape the train and the test dataset because we always have to give a 4D array as input to CNNs.\n",
    "- Normalize the train and the test dataset by dividing by 255.\n",
    "- Print the new shapes of the train and the test dataset.\n",
    "- One-hot encode the target variable."
   ]
  },
  {
   "cell_type": "code",
   "execution_count": 37,
   "metadata": {
    "colab": {
     "base_uri": "https://localhost:8080/"
    },
    "id": "W4uXqKz1AjQG",
    "outputId": "6483e576-b667-47ae-d55a-8da759a4ee16"
   },
   "outputs": [
    {
     "name": "stdout",
     "output_type": "stream",
     "text": [
      "Shape: (32, 32)\n",
      "\n",
      "First image:\n",
      " [[ 33.0704  30.2601  26.852  ...  71.4471  58.2204  42.9939]\n",
      " [ 25.2283  25.5533  29.9765 ... 113.0209 103.3639  84.2949]\n",
      " [ 26.2775  22.6137  40.4763 ... 113.3028 121.775  115.4228]\n",
      " ...\n",
      " [ 28.5502  36.212   45.0801 ...  24.1359  25.0927  26.0603]\n",
      " [ 38.4352  26.4733  23.2717 ...  28.1094  29.4683  30.0661]\n",
      " [ 50.2984  26.0773  24.0389 ...  49.6682  50.853   53.0377]]\n"
     ]
    }
   ],
   "source": [
    "# Shape and the array of pixels for the first image\n",
    "\n",
    "print(\"Shape:\", X_train[0].shape)\n",
    "\n",
    "print()\n",
    "\n",
    "print(\"First image:\\n\", X_train[0])"
   ]
  },
  {
   "cell_type": "markdown",
   "metadata": {
    "id": "at30iiX1__7F"
   },
   "source": [
    "Reshape the dataset to be able to pass them to CNNs. Remember that we always have to give a 4D array as input to CNNs"
   ]
  },
  {
   "cell_type": "code",
   "execution_count": 38,
   "metadata": {
    "id": "D9YPwf9ysqWU"
   },
   "outputs": [],
   "source": [
    "# Reshaping the dataset to be able to pass them to CNNs. Remember that we always have to give a 4D array as input to CNNs\n",
    "\n",
    "X_train = X_train.reshape(X_train.shape[0], 32, 32, 1)\n",
    "\n",
    "X_test = X_test.reshape(X_test.shape[0], 32, 32, 1)"
   ]
  },
  {
   "cell_type": "markdown",
   "metadata": {
    "id": "ODYnoLfaAEGx"
   },
   "source": [
    "Normalize inputs from 0-255 to 0-1"
   ]
  },
  {
   "cell_type": "code",
   "execution_count": 39,
   "metadata": {
    "id": "eOGLAn40AjQG"
   },
   "outputs": [],
   "source": [
    "# Normalize inputs from 0-255 to 0-1\n",
    "\n",
    "X_train = X_train / 255.0\n",
    "\n",
    "X_test = X_test / 255.0"
   ]
  },
  {
   "cell_type": "markdown",
   "metadata": {
    "id": "cS9T4HqjAoyM"
   },
   "source": [
    "Print New shape of Training and Test"
   ]
  },
  {
   "cell_type": "code",
   "execution_count": 40,
   "metadata": {
    "colab": {
     "base_uri": "https://localhost:8080/"
    },
    "id": "5qf8S5NQAjQG",
    "outputId": "2d51fc30-1c35-45d5-a33f-cb7f63fa903e"
   },
   "outputs": [
    {
     "name": "stdout",
     "output_type": "stream",
     "text": [
      "Training set: (42000, 32, 32, 1) (42000,)\n",
      "Test set: (18000, 32, 32, 1) (18000,)\n"
     ]
    }
   ],
   "source": [
    "# New shape\n",
    "\n",
    "print('Training set:', X_train.shape, y_train.shape)\n",
    "\n",
    "print('Test set:', X_test.shape, y_test.shape)"
   ]
  },
  {
   "cell_type": "markdown",
   "metadata": {
    "id": "10QaOV-xR7Jn"
   },
   "source": [
    "### **One-hot encode the labels in the target variable y_train and y_test.**"
   ]
  },
  {
   "cell_type": "code",
   "execution_count": 1,
   "metadata": {
    "colab": {
     "base_uri": "https://localhost:8080/"
    },
    "id": "3KHWFWKMAjQH",
    "outputId": "39967ad6-16ff-4281-f216-ca0f898467fe"
   },
   "outputs": [
    {
     "ename": "NameError",
     "evalue": "name 'to_categorical' is not defined",
     "output_type": "error",
     "traceback": [
      "\u001b[1;31m---------------------------------------------------------------------------\u001b[0m",
      "\u001b[1;31mNameError\u001b[0m                                 Traceback (most recent call last)",
      "\u001b[1;32m<ipython-input-1-18a258ca5cfb>\u001b[0m in \u001b[0;36m<module>\u001b[1;34m\u001b[0m\n\u001b[0;32m      1\u001b[0m \u001b[1;31m# Write the function and appropriate variable name to one-hot encode the output\u001b[0m\u001b[1;33m\u001b[0m\u001b[1;33m\u001b[0m\u001b[1;33m\u001b[0m\u001b[0m\n\u001b[0;32m      2\u001b[0m \u001b[1;33m\u001b[0m\u001b[0m\n\u001b[1;32m----> 3\u001b[1;33m \u001b[0my_train\u001b[0m \u001b[1;33m=\u001b[0m \u001b[0mto_categorical\u001b[0m\u001b[1;33m(\u001b[0m\u001b[0my_train\u001b[0m\u001b[1;33m)\u001b[0m\u001b[1;33m\u001b[0m\u001b[1;33m\u001b[0m\u001b[0m\n\u001b[0m\u001b[0;32m      4\u001b[0m \u001b[1;33m\u001b[0m\u001b[0m\n\u001b[0;32m      5\u001b[0m \u001b[0my_test\u001b[0m \u001b[1;33m=\u001b[0m \u001b[0mto_categorical\u001b[0m\u001b[1;33m(\u001b[0m\u001b[0my_test\u001b[0m\u001b[1;33m)\u001b[0m\u001b[1;33m\u001b[0m\u001b[1;33m\u001b[0m\u001b[0m\n",
      "\u001b[1;31mNameError\u001b[0m: name 'to_categorical' is not defined"
     ]
    }
   ],
   "source": [
    "# Write the function and appropriate variable name to one-hot encode the output\n",
    "\n",
    "y_train = to_categorical(y_train)\n",
    "\n",
    "y_test = to_categorical(y_test)\n",
    "\n",
    "# test labels\n",
    "\n",
    "y_test\n",
    "\n",
    "#y_train_encoded = to_categorical(y_train)\n",
    "#y_test_encoded = to_categorical(y_test)"
   ]
  },
  {
   "cell_type": "markdown",
   "metadata": {
    "id": "H-8jYVQTAjQH"
   },
   "source": [
    "**Observation:**\n",
    "Notice that each entry of the target variable is a one-hot encoded vector instead of a single label."
   ]
  },
  {
   "cell_type": "markdown",
   "metadata": {
    "id": "Vjx_LI4_AjQH"
   },
   "source": [
    "## **Model Building**\n",
    "\n",
    "Now that we have done data preprocessing, let's build a CNN model.\n",
    "Fix the seed for random number generators"
   ]
  },
  {
   "cell_type": "code",
   "execution_count": 42,
   "metadata": {
    "id": "ZY5pyF4-KDNt"
   },
   "outputs": [],
   "source": [
    "# Fixing the seed for random number generators\n",
    "\n",
    "np.random.seed(42)\n",
    "\n",
    "import random\n",
    "\n",
    "random.seed(42)\n",
    "\n",
    "tf.random.set_seed(42)"
   ]
  },
  {
   "cell_type": "markdown",
   "metadata": {
    "id": "1JUAczhzAjQH"
   },
   "source": [
    "### **Model Architecture**\n",
    "- **Write a function** that returns a sequential model with the following architecture:\n",
    " - First Convolutional layer with **16 filters and the kernel size of 3x3**. Use the **'same' padding** and provide the **input shape = (32, 32, 1)**\n",
    " - Add a **LeakyRelu layer** with the **slope equal to 0.1**\n",
    " - Second Convolutional layer with **32 filters and the kernel size of 3x3 with 'same' padding**\n",
    " - Another **LeakyRelu** with the **slope equal to 0.1**\n",
    " - A **max-pooling layer** with a **pool size of 2x2**\n",
    " - **Flatten** the output from the previous layer\n",
    " - Add a **dense layer with 32 nodes**\n",
    " - Add a **LeakyRelu layer with the slope equal to 0.1**\n",
    " - Add the final **output layer with nodes equal to the number of classes, i.e., 10** and **'softmax' as the activation function**\n",
    " - Compile the model with the **loss equal to categorical_crossentropy, optimizer equal to Adam(learning_rate = 0.001), and metric equal to 'accuracy'**. Do not fit the model here, just return the compiled model.\n",
    "- Call the function cnn_model_1 and store the output in a new variable.\n",
    "- Print the summary of the model.\n",
    "- Fit the model on the training data with a **validation split of 0.2, batch size = 32, verbose = 1, and epochs = 20**. Store the model building history to use later for visualization."
   ]
  },
  {
   "cell_type": "markdown",
   "metadata": {
    "id": "JWsAd45JKDNu"
   },
   "source": [
    "### **Build and train a CNN model as per the above mentioned architecture.**"
   ]
  },
  {
   "cell_type": "code",
   "execution_count": 43,
   "metadata": {
    "id": "L1jOYANWAjQH"
   },
   "outputs": [],
   "source": [
    "from tensorflow.keras.models import Sequential\n",
    "from tensorflow.keras.layers import Conv2D, LeakyReLU, MaxPooling2D, Flatten, Dense\n",
    "from tensorflow.keras.optimizers import Adam\n",
    "\n",
    "# Define the model\n",
    "\n",
    "def cnn_model_1():\n",
    "\n",
    "    model = Sequential()\n",
    "\n",
    "    # Add layers as per the architecture mentioned above in the same sequence\n",
    "\n",
    "     # First Convolutional layer with 16 filters, kernel size 3x3, and 'same' padding\n",
    "    model.add(Conv2D(16, kernel_size=(3, 3), padding='same', input_shape=(32, 32, 1)))\n",
    "\n",
    "    # LeakyReLU layer with slope 0.1\n",
    "    model.add(LeakyReLU(alpha=0.1))\n",
    "\n",
    "    # Second Convolutional layer with 32 filters, kernel size 3x3, and 'same' padding\n",
    "    model.add(Conv2D(32, kernel_size=(3, 3), padding='same'))\n",
    "\n",
    "   # LeakyReLU layer with slope 0.1\n",
    "    model.add(LeakyReLU(alpha=0.1))\n",
    "\n",
    "    # Max pooling layer with pool size 2x2\n",
    "    model.add(MaxPooling2D(pool_size=(2, 2)))\n",
    "\n",
    "    # Flatten the output\n",
    "    model.add(Flatten())\n",
    "\n",
    "    # Dense layer with 32 nodes\n",
    "    model.add(Dense(32))\n",
    "\n",
    "    # LeakyReLU layer with slope 0.1\n",
    "    model.add(LeakyReLU(alpha=0.1))\n",
    "\n",
    "\n",
    "    # Output layer with softmax activation\n",
    "    model.add(Dense(10, activation='softmax'))\n",
    "\n",
    "\n",
    "     # Compile the model\n",
    "    model.compile(loss='categorical_crossentropy',\n",
    "                  optimizer=Adam(learning_rate=0.001),\n",
    "                  metrics=['accuracy'])\n",
    "\n",
    "    return model"
   ]
  },
  {
   "cell_type": "code",
   "execution_count": 44,
   "metadata": {
    "id": "-iRaUwlgnnh6"
   },
   "outputs": [],
   "source": [
    "# Create the model\n",
    "cnn_model_1 = cnn_model_1()"
   ]
  },
  {
   "cell_type": "code",
   "execution_count": 45,
   "metadata": {
    "colab": {
     "base_uri": "https://localhost:8080/"
    },
    "id": "3tk9aJ85nzH-",
    "outputId": "10333b3a-9633-42f2-ae4b-d6b3d648db9f"
   },
   "outputs": [
    {
     "name": "stdout",
     "output_type": "stream",
     "text": [
      "Model: \"sequential_1\"\n",
      "_________________________________________________________________\n",
      " Layer (type)                Output Shape              Param #   \n",
      "=================================================================\n",
      " conv2d (Conv2D)             (None, 32, 32, 16)        160       \n",
      "                                                                 \n",
      " leaky_re_lu (LeakyReLU)     (None, 32, 32, 16)        0         \n",
      "                                                                 \n",
      " conv2d_1 (Conv2D)           (None, 32, 32, 32)        4640      \n",
      "                                                                 \n",
      " leaky_re_lu_1 (LeakyReLU)   (None, 32, 32, 32)        0         \n",
      "                                                                 \n",
      " max_pooling2d (MaxPooling2  (None, 16, 16, 32)        0         \n",
      " D)                                                              \n",
      "                                                                 \n",
      " flatten (Flatten)           (None, 8192)              0         \n",
      "                                                                 \n",
      " dense_6 (Dense)             (None, 32)                262176    \n",
      "                                                                 \n",
      " leaky_re_lu_2 (LeakyReLU)   (None, 32)                0         \n",
      "                                                                 \n",
      " dense_7 (Dense)             (None, 10)                330       \n",
      "                                                                 \n",
      "=================================================================\n",
      "Total params: 267306 (1.02 MB)\n",
      "Trainable params: 267306 (1.02 MB)\n",
      "Non-trainable params: 0 (0.00 Byte)\n",
      "_________________________________________________________________\n"
     ]
    }
   ],
   "source": [
    "# Print model summary\n",
    "cnn_model_1.summary()"
   ]
  },
  {
   "cell_type": "code",
   "execution_count": 47,
   "metadata": {
    "colab": {
     "base_uri": "https://localhost:8080/"
    },
    "id": "dtEMptlKoCiq",
    "outputId": "4ebbfbcd-002f-4dc2-c81a-247e6582a131"
   },
   "outputs": [
    {
     "name": "stdout",
     "output_type": "stream",
     "text": [
      "Epoch 1/20\n",
      "1050/1050 [==============================] - 72s 66ms/step - loss: 1.1274 - accuracy: 0.6303 - val_loss: 0.6497 - val_accuracy: 0.8087\n",
      "Epoch 2/20\n",
      "1050/1050 [==============================] - 62s 59ms/step - loss: 0.5352 - accuracy: 0.8475 - val_loss: 0.5254 - val_accuracy: 0.8448\n",
      "Epoch 3/20\n",
      "1050/1050 [==============================] - 62s 59ms/step - loss: 0.4416 - accuracy: 0.8700 - val_loss: 0.5049 - val_accuracy: 0.8532\n",
      "Epoch 4/20\n",
      "1050/1050 [==============================] - 63s 60ms/step - loss: 0.3781 - accuracy: 0.8888 - val_loss: 0.4486 - val_accuracy: 0.8739\n",
      "Epoch 5/20\n",
      "1050/1050 [==============================] - 63s 60ms/step - loss: 0.3330 - accuracy: 0.9004 - val_loss: 0.4592 - val_accuracy: 0.8717\n",
      "Epoch 6/20\n",
      "1050/1050 [==============================] - 62s 59ms/step - loss: 0.2944 - accuracy: 0.9115 - val_loss: 0.4640 - val_accuracy: 0.8735\n",
      "Epoch 7/20\n",
      "1050/1050 [==============================] - 61s 59ms/step - loss: 0.2622 - accuracy: 0.9216 - val_loss: 0.4506 - val_accuracy: 0.8807\n",
      "Epoch 8/20\n",
      "1050/1050 [==============================] - 64s 61ms/step - loss: 0.2332 - accuracy: 0.9279 - val_loss: 0.4920 - val_accuracy: 0.8681\n",
      "Epoch 9/20\n",
      "1050/1050 [==============================] - 64s 61ms/step - loss: 0.2094 - accuracy: 0.9365 - val_loss: 0.4703 - val_accuracy: 0.8782\n",
      "Epoch 10/20\n",
      "1050/1050 [==============================] - 61s 58ms/step - loss: 0.1873 - accuracy: 0.9424 - val_loss: 0.4922 - val_accuracy: 0.8782\n",
      "Epoch 11/20\n",
      "1050/1050 [==============================] - 62s 59ms/step - loss: 0.1663 - accuracy: 0.9471 - val_loss: 0.5408 - val_accuracy: 0.8752\n",
      "Epoch 12/20\n",
      "1050/1050 [==============================] - 60s 58ms/step - loss: 0.1521 - accuracy: 0.9519 - val_loss: 0.5748 - val_accuracy: 0.8701\n",
      "Epoch 13/20\n",
      "1050/1050 [==============================] - 62s 59ms/step - loss: 0.1331 - accuracy: 0.9571 - val_loss: 0.6197 - val_accuracy: 0.8671\n",
      "Epoch 14/20\n",
      "1050/1050 [==============================] - 61s 58ms/step - loss: 0.1233 - accuracy: 0.9601 - val_loss: 0.6305 - val_accuracy: 0.8640\n",
      "Epoch 15/20\n",
      "1050/1050 [==============================] - 61s 58ms/step - loss: 0.1132 - accuracy: 0.9633 - val_loss: 0.6549 - val_accuracy: 0.8707\n",
      "Epoch 16/20\n",
      "1050/1050 [==============================] - 62s 59ms/step - loss: 0.1008 - accuracy: 0.9669 - val_loss: 0.7015 - val_accuracy: 0.8658\n",
      "Epoch 17/20\n",
      "1050/1050 [==============================] - 61s 58ms/step - loss: 0.0929 - accuracy: 0.9704 - val_loss: 0.6903 - val_accuracy: 0.8750\n",
      "Epoch 18/20\n",
      "1050/1050 [==============================] - 63s 60ms/step - loss: 0.0798 - accuracy: 0.9749 - val_loss: 0.7664 - val_accuracy: 0.8681\n",
      "Epoch 19/20\n",
      "1050/1050 [==============================] - 62s 59ms/step - loss: 0.0778 - accuracy: 0.9744 - val_loss: 0.7585 - val_accuracy: 0.8714\n",
      "Epoch 20/20\n",
      "1050/1050 [==============================] - 61s 58ms/step - loss: 0.0742 - accuracy: 0.9756 - val_loss: 0.8155 - val_accuracy: 0.8701\n"
     ]
    }
   ],
   "source": [
    "# Fit the model\n",
    "\n",
    "history_cnn_model_1 = cnn_model_1.fit(X_train, y_train, validation_split=0.2, batch_size=32, epochs=20, verbose=1)"
   ]
  },
  {
   "cell_type": "markdown",
   "metadata": {
    "id": "JPzfIf9kKDNw"
   },
   "source": [
    "### **Plot the Training and Validation Accuracies and Write your observations.**"
   ]
  },
  {
   "cell_type": "code",
   "execution_count": 48,
   "metadata": {
    "colab": {
     "base_uri": "https://localhost:8080/",
     "height": 696
    },
    "id": "07oUCr1kAjQH",
    "outputId": "1c5042b8-e8d6-41c5-ec55-0293d3a80361"
   },
   "outputs": [
    {
     "data": {
      "image/png": "[encoded data removed]",
      "text/plain": [
       "<Figure size 800x800 with 1 Axes>"
      ]
     },
     "metadata": {},
     "output_type": "display_data"
    }
   ],
   "source": [
    "# Plotting the accuracies\n",
    "\n",
    "dict_hist = history_cnn_model_1.history\n",
    "\n",
    "list_ep = [i for i in range(1, 21)]\n",
    "\n",
    "plt.figure(figsize = (8, 8))\n",
    "\n",
    "plt.plot(list_ep, dict_hist['accuracy'], ls = '--', label = 'accuracy')\n",
    "\n",
    "plt.plot(list_ep, dict_hist['val_accuracy'], ls = '--', label = 'val_accuracy')\n",
    "\n",
    "plt.ylabel('Accuracy')\n",
    "\n",
    "plt.xlabel('Epochs')\n",
    "\n",
    "plt.legend()\n",
    "\n",
    "plt.show()"
   ]
  },
  {
   "cell_type": "markdown",
   "metadata": {
    "id": "P6zTLyp9AjQH"
   },
   "source": [
    "**Observations:__________**\n",
    "There is a significant gap between the two, it might indicate overfitting. A large difference suggests that the model is performing well on the training data but not as well on unseen data, which could be a sign of overfitting."
   ]
  },
  {
   "cell_type": "markdown",
   "metadata": {
    "id": "Ukvtg2eMAjQH"
   },
   "source": [
    "Let's build another model and see if we can get a better model with generalized performance.\n",
    "\n",
    "First, we need to clear the previous model's history from the Keras backend. Also, let's fix the seed again after clearing the backend."
   ]
  },
  {
   "cell_type": "code",
   "execution_count": 49,
   "metadata": {
    "id": "HbKi93HTolGW"
   },
   "outputs": [],
   "source": [
    "# Clearing backend\n",
    "\n",
    "from tensorflow.keras import backend\n",
    "\n",
    "backend.clear_session()"
   ]
  },
  {
   "cell_type": "code",
   "execution_count": 50,
   "metadata": {
    "id": "BZYOURKxpvMX"
   },
   "outputs": [],
   "source": [
    "# Fixing the seed for random number generators\n",
    "\n",
    "np.random.seed(42)\n",
    "\n",
    "import random\n",
    "\n",
    "random.seed(42)\n",
    "\n",
    "tf.random.set_seed(42)"
   ]
  },
  {
   "cell_type": "markdown",
   "metadata": {
    "id": "Ep19Jd8HAjQH"
   },
   "source": [
    "### **Second Model Architecture**\n",
    "\n",
    "- Write a function that returns a sequential model with the following architecture:\n",
    " - First Convolutional layer with **16 filters and the kernel size of 3x3**. Use the **'same' padding** and provide the **input shape = (32, 32, 1)**\n",
    " - Add a **LeakyRelu layer** with the **slope equal to 0.1**\n",
    " - Second Convolutional layer with **32 filters and the kernel size of 3x3 with 'same' padding**\n",
    " - Add **LeakyRelu** with the **slope equal to 0.1**\n",
    " - Add a **max-pooling layer** with a **pool size of 2x2**\n",
    " - Add a **BatchNormalization layer**\n",
    " - Third Convolutional layer with **32 filters and the kernel size of 3x3 with 'same' padding**\n",
    " - Add a **LeakyRelu layer with the slope equal to 0.1**\n",
    " - Fourth Convolutional layer **64 filters and the kernel size of 3x3 with 'same' padding**\n",
    " - Add a **LeakyRelu layer with the slope equal to 0.1**\n",
    " - Add a **max-pooling layer** with a **pool size of 2x2**\n",
    " - Add a **BatchNormalization layer**\n",
    " - **Flatten** the output from the previous layer\n",
    " - Add a **dense layer with 32 nodes**\n",
    " - Add a **LeakyRelu layer with the slope equal to 0.1**\n",
    " - Add a **dropout layer with the rate equal to 0.5**\n",
    " - Add the final **output layer with nodes equal to the number of classes, i.e., 10** and **'softmax' as the activation function**\n",
    " - Compile the model with the **categorical_crossentropy loss, adam optimizers (learning_rate = 0.001), and metric equal to 'accuracy'**. Do not fit the model here, just return the compiled model.\n",
    "- Call the function cnn_model_2 and store the model in a new variable.\n",
    "- Print the summary of the model.\n",
    "- Fit the model on the train data with a **validation split of 0.2, batch size = 128, verbose = 1, and epochs = 30**. Store the model building history to use later for visualization."
   ]
  },
  {
   "cell_type": "markdown",
   "metadata": {
    "id": "y5IBLS1eKDNy"
   },
   "source": [
    "### **Build and train the second CNN model as per the above mentioned architecture.**"
   ]
  },
  {
   "cell_type": "code",
   "execution_count": 51,
   "metadata": {
    "colab": {
     "base_uri": "https://localhost:8080/"
    },
    "id": "wk9sl2UEAjQH",
    "outputId": "4b69aa8f-7946-4119-f63c-f8e0c42fa6cf"
   },
   "outputs": [
    {
     "name": "stdout",
     "output_type": "stream",
     "text": [
      "Model: \"sequential\"\n",
      "_________________________________________________________________\n",
      " Layer (type)                Output Shape              Param #   \n",
      "=================================================================\n",
      " conv2d (Conv2D)             (None, 32, 32, 16)        160       \n",
      "                                                                 \n",
      " leaky_re_lu (LeakyReLU)     (None, 32, 32, 16)        0         \n",
      "                                                                 \n",
      " conv2d_1 (Conv2D)           (None, 32, 32, 32)        4640      \n",
      "                                                                 \n",
      " leaky_re_lu_1 (LeakyReLU)   (None, 32, 32, 32)        0         \n",
      "                                                                 \n",
      " max_pooling2d (MaxPooling2  (None, 16, 16, 32)        0         \n",
      " D)                                                              \n",
      "                                                                 \n",
      " batch_normalization (Batch  (None, 16, 16, 32)        128       \n",
      " Normalization)                                                  \n",
      "                                                                 \n",
      " conv2d_2 (Conv2D)           (None, 16, 16, 32)        9248      \n",
      "                                                                 \n",
      " leaky_re_lu_2 (LeakyReLU)   (None, 16, 16, 32)        0         \n",
      "                                                                 \n",
      " conv2d_3 (Conv2D)           (None, 16, 16, 64)        18496     \n",
      "                                                                 \n",
      " leaky_re_lu_3 (LeakyReLU)   (None, 16, 16, 64)        0         \n",
      "                                                                 \n",
      " max_pooling2d_1 (MaxPoolin  (None, 8, 8, 64)          0         \n",
      " g2D)                                                            \n",
      "                                                                 \n",
      " batch_normalization_1 (Bat  (None, 8, 8, 64)          256       \n",
      " chNormalization)                                                \n",
      "                                                                 \n",
      " flatten (Flatten)           (None, 4096)              0         \n",
      "                                                                 \n",
      " dense (Dense)               (None, 32)                131104    \n",
      "                                                                 \n",
      " leaky_re_lu_4 (LeakyReLU)   (None, 32)                0         \n",
      "                                                                 \n",
      " dropout (Dropout)           (None, 32)                0         \n",
      "                                                                 \n",
      " dense_1 (Dense)             (None, 10)                330       \n",
      "                                                                 \n",
      "=================================================================\n",
      "Total params: 164362 (642.04 KB)\n",
      "Trainable params: 164170 (641.29 KB)\n",
      "Non-trainable params: 192 (768.00 Byte)\n",
      "_________________________________________________________________\n"
     ]
    }
   ],
   "source": [
    "from tensorflow.keras.models import Sequential\n",
    "from tensorflow.keras.layers import Conv2D, LeakyReLU, MaxPooling2D, BatchNormalization, Flatten, Dense, Dropout\n",
    "from tensorflow.keras.optimizers import Adam\n",
    "\n",
    "def cnn_model_2():\n",
    "    model = Sequential()\n",
    "\n",
    "    # First Convolutional layer with 16 filters, kernel size 3x3, and 'same' padding\n",
    "    model.add(Conv2D(16, kernel_size=(3, 3), padding='same', input_shape=(32, 32, 1)))\n",
    "\n",
    "    # LeakyReLU layer with slope 0.1\n",
    "    model.add(LeakyReLU(alpha=0.1))\n",
    "\n",
    "    # Second Convolutional layer with 32 filters, kernel size 3x3, and 'same' padding\n",
    "    model.add(Conv2D(32, kernel_size=(3, 3), padding='same'))\n",
    "\n",
    "    # LeakyReLU layer with slope 0.1\n",
    "    model.add(LeakyReLU(alpha=0.1))\n",
    "\n",
    "    # Max pooling layer with pool size 2x2\n",
    "    model.add(MaxPooling2D(pool_size=(2, 2)))\n",
    "\n",
    "    # Batch normalization layer\n",
    "    model.add(BatchNormalization())\n",
    "\n",
    "    # Third Convolutional layer with 32 filters, kernel size 3x3, and 'same' padding\n",
    "    model.add(Conv2D(32, kernel_size=(3, 3), padding='same'))\n",
    "\n",
    "    # LeakyReLU layer with slope 0.1\n",
    "    model.add(LeakyReLU(alpha=0.1))\n",
    "\n",
    "    # Fourth Convolutional layer with 64 filters, kernel size 3x3, and 'same' padding\n",
    "    model.add(Conv2D(64, kernel_size=(3, 3), padding='same'))\n",
    "\n",
    "    # LeakyReLU layer with slope 0.1\n",
    "    model.add(LeakyReLU(alpha=0.1))\n",
    "\n",
    "    # Max pooling layer with pool size 2x2\n",
    "    model.add(MaxPooling2D(pool_size=(2, 2)))\n",
    "\n",
    "    # Batch normalization layer\n",
    "    model.add(BatchNormalization())\n",
    "\n",
    "    # Flatten the output\n",
    "    model.add(Flatten())\n",
    "\n",
    "    # Dense layer with 32 nodes\n",
    "    model.add(Dense(32))\n",
    "\n",
    "    # LeakyReLU layer with slope 0.1\n",
    "    model.add(LeakyReLU(alpha=0.1))\n",
    "\n",
    "    # Dropout layer with rate 0.5\n",
    "    model.add(Dropout(0.5))\n",
    "\n",
    "    # Output layer with softmax activation\n",
    "    model.add(Dense(10, activation='softmax'))\n",
    "\n",
    "    # Compile the model\n",
    "    model.compile(loss='categorical_crossentropy',\n",
    "                  optimizer=Adam(learning_rate=0.001),\n",
    "                  metrics=['accuracy'])\n",
    "\n",
    "    return model\n",
    "\n",
    "# Create the model\n",
    "cnn_model_2 = cnn_model_2()\n",
    "\n",
    "# Print model summary\n",
    "cnn_model_2.summary()"
   ]
  },
  {
   "cell_type": "code",
   "execution_count": 52,
   "metadata": {
    "colab": {
     "base_uri": "https://localhost:8080/"
    },
    "id": "9XYviNdmqUUt",
    "outputId": "e134ff64-570b-42a6-b8cf-b80226a6a39e"
   },
   "outputs": [
    {
     "name": "stdout",
     "output_type": "stream",
     "text": [
      "Epoch 1/30\n",
      "263/263 [==============================] - 120s 450ms/step - loss: 1.3222 - accuracy: 0.5483 - val_loss: 2.1225 - val_accuracy: 0.2112\n",
      "Epoch 2/30\n",
      "263/263 [==============================] - 112s 425ms/step - loss: 0.6654 - accuracy: 0.7950 - val_loss: 0.6373 - val_accuracy: 0.8208\n",
      "Epoch 3/30\n",
      "263/263 [==============================] - 112s 427ms/step - loss: 0.5528 - accuracy: 0.8313 - val_loss: 0.4480 - val_accuracy: 0.8737\n",
      "Epoch 4/30\n",
      "263/263 [==============================] - 112s 425ms/step - loss: 0.4908 - accuracy: 0.8507 - val_loss: 0.3992 - val_accuracy: 0.8823\n",
      "Epoch 5/30\n",
      "263/263 [==============================] - 116s 440ms/step - loss: 0.4349 - accuracy: 0.8633 - val_loss: 0.3909 - val_accuracy: 0.8885\n",
      "Epoch 6/30\n",
      "263/263 [==============================] - 111s 421ms/step - loss: 0.4038 - accuracy: 0.8755 - val_loss: 0.4107 - val_accuracy: 0.8852\n",
      "Epoch 7/30\n",
      "263/263 [==============================] - 115s 439ms/step - loss: 0.3835 - accuracy: 0.8814 - val_loss: 0.3952 - val_accuracy: 0.8914\n",
      "Epoch 8/30\n",
      "263/263 [==============================] - 114s 432ms/step - loss: 0.3493 - accuracy: 0.8902 - val_loss: 0.3821 - val_accuracy: 0.8896\n",
      "Epoch 9/30\n",
      "263/263 [==============================] - 110s 418ms/step - loss: 0.3308 - accuracy: 0.8967 - val_loss: 0.3889 - val_accuracy: 0.8942\n",
      "Epoch 10/30\n",
      "263/263 [==============================] - 109s 416ms/step - loss: 0.3131 - accuracy: 0.9014 - val_loss: 0.3309 - val_accuracy: 0.9098\n",
      "Epoch 11/30\n",
      "263/263 [==============================] - 113s 430ms/step - loss: 0.2931 - accuracy: 0.9094 - val_loss: 0.3773 - val_accuracy: 0.8977\n",
      "Epoch 12/30\n",
      "263/263 [==============================] - 110s 419ms/step - loss: 0.2796 - accuracy: 0.9116 - val_loss: 0.3825 - val_accuracy: 0.9038\n",
      "Epoch 13/30\n",
      "263/263 [==============================] - 113s 431ms/step - loss: 0.2663 - accuracy: 0.9150 - val_loss: 0.3677 - val_accuracy: 0.8979\n",
      "Epoch 14/30\n",
      "263/263 [==============================] - 112s 426ms/step - loss: 0.2563 - accuracy: 0.9187 - val_loss: 0.3601 - val_accuracy: 0.9063\n",
      "Epoch 15/30\n",
      "263/263 [==============================] - 113s 431ms/step - loss: 0.2456 - accuracy: 0.9208 - val_loss: 0.3725 - val_accuracy: 0.9074\n",
      "Epoch 16/30\n",
      "263/263 [==============================] - 109s 414ms/step - loss: 0.2373 - accuracy: 0.9241 - val_loss: 0.4240 - val_accuracy: 0.8964\n",
      "Epoch 17/30\n",
      "263/263 [==============================] - 109s 415ms/step - loss: 0.2238 - accuracy: 0.9260 - val_loss: 0.3838 - val_accuracy: 0.9123\n",
      "Epoch 18/30\n",
      "263/263 [==============================] - 112s 427ms/step - loss: 0.2168 - accuracy: 0.9294 - val_loss: 0.3901 - val_accuracy: 0.9004\n",
      "Epoch 19/30\n",
      "263/263 [==============================] - 113s 431ms/step - loss: 0.2105 - accuracy: 0.9302 - val_loss: 0.4863 - val_accuracy: 0.8829\n",
      "Epoch 20/30\n",
      "263/263 [==============================] - 109s 414ms/step - loss: 0.2031 - accuracy: 0.9327 - val_loss: 0.3914 - val_accuracy: 0.9090\n",
      "Epoch 21/30\n",
      "263/263 [==============================] - 113s 428ms/step - loss: 0.1943 - accuracy: 0.9360 - val_loss: 0.4094 - val_accuracy: 0.9096\n",
      "Epoch 22/30\n",
      "263/263 [==============================] - 113s 428ms/step - loss: 0.1892 - accuracy: 0.9381 - val_loss: 0.4386 - val_accuracy: 0.8992\n",
      "Epoch 23/30\n",
      "263/263 [==============================] - 109s 414ms/step - loss: 0.1872 - accuracy: 0.9386 - val_loss: 0.4176 - val_accuracy: 0.9113\n",
      "Epoch 24/30\n",
      "263/263 [==============================] - 111s 422ms/step - loss: 0.1774 - accuracy: 0.9419 - val_loss: 0.4069 - val_accuracy: 0.9130\n",
      "Epoch 25/30\n",
      "263/263 [==============================] - 112s 428ms/step - loss: 0.1675 - accuracy: 0.9449 - val_loss: 0.4280 - val_accuracy: 0.9132\n",
      "Epoch 26/30\n",
      "263/263 [==============================] - 109s 413ms/step - loss: 0.1651 - accuracy: 0.9454 - val_loss: 0.4501 - val_accuracy: 0.9119\n",
      "Epoch 27/30\n",
      "263/263 [==============================] - 113s 429ms/step - loss: 0.1669 - accuracy: 0.9452 - val_loss: 0.4398 - val_accuracy: 0.9080\n",
      "Epoch 28/30\n",
      "263/263 [==============================] - 114s 432ms/step - loss: 0.1592 - accuracy: 0.9468 - val_loss: 0.4108 - val_accuracy: 0.9129\n",
      "Epoch 29/30\n",
      "263/263 [==============================] - 115s 438ms/step - loss: 0.1529 - accuracy: 0.9492 - val_loss: 0.4127 - val_accuracy: 0.9154\n",
      "Epoch 30/30\n",
      "263/263 [==============================] - 114s 431ms/step - loss: 0.1496 - accuracy: 0.9494 - val_loss: 0.4532 - val_accuracy: 0.9132\n"
     ]
    }
   ],
   "source": [
    "# Assuming X_train and y_train are your training data and labels\n",
    "history_cnn_model_2 = cnn_model_2.fit(X_train, y_train, validation_split=0.2, batch_size=128, epochs=30, verbose=1)"
   ]
  },
  {
   "cell_type": "markdown",
   "metadata": {
    "id": "PyhUtMy3KDN1"
   },
   "source": [
    "### **Plot the Training and Validation accuracies and write your observations.**"
   ]
  },
  {
   "cell_type": "code",
   "execution_count": null,
   "metadata": {
    "id": "NaII8BAeb3lH"
   },
   "outputs": [],
   "source": [
    "history_cnn_model_2"
   ]
  },
  {
   "cell_type": "code",
   "execution_count": 53,
   "metadata": {
    "colab": {
     "base_uri": "https://localhost:8080/",
     "height": 696
    },
    "id": "YVQu7uWiAjQH",
    "outputId": "00c71860-e566-4ff4-d0c2-482f7f25afa7"
   },
   "outputs": [
    {
     "data": {
      "image/png": "[encoded data removed]",
      "text/plain": [
       "<Figure size 800x800 with 1 Axes>"
      ]
     },
     "metadata": {},
     "output_type": "display_data"
    }
   ],
   "source": [
    "# Plotting the accuracies\n",
    "\n",
    "dict_hist = history_cnn_model_2.history\n",
    "\n",
    "list_ep = [i for i in range(1, 31)]\n",
    "\n",
    "plt.figure(figsize = (8, 8))\n",
    "\n",
    "plt.plot(list_ep, dict_hist['accuracy'], ls = '--', label = 'accuracy')\n",
    "\n",
    "plt.plot(list_ep, dict_hist['val_accuracy'], ls = '--', label = 'val_accuracy')\n",
    "\n",
    "plt.ylabel('Accuracy')\n",
    "\n",
    "plt.xlabel('Epochs')\n",
    "\n",
    "plt.legend()\n",
    "\n",
    "plt.show()"
   ]
  },
  {
   "cell_type": "markdown",
   "metadata": {
    "id": "Qrrt0Ac3AjQH"
   },
   "source": [
    "**Observations:________**\n",
    "The accuracy and validation accuracy are close to 90%.This is the highest in comparison to the other models. The model plateaus in approx 3 epochs. "
   ]
  },
  {
   "cell_type": "markdown",
   "metadata": {
    "id": "kja4SnOdAjQI"
   },
   "source": [
    "## **Predictions on the test data**\n",
    "\n",
    "- Make predictions on the test set using the second model.\n",
    "- Print the obtained results using the classification report and the confusion matrix.\n",
    "- Final observations on the obtained results."
   ]
  },
  {
   "cell_type": "markdown",
   "metadata": {
    "id": "eHCRwRbgKDN2"
   },
   "source": [
    "### **Make predictions on the test data using the second model.**"
   ]
  },
  {
   "cell_type": "code",
   "execution_count": 55,
   "metadata": {
    "colab": {
     "base_uri": "https://localhost:8080/"
    },
    "id": "f1d-VvaLAjQI",
    "outputId": "1b5d6aee-1c05-4983-e39a-8c2c3dafb6ab"
   },
   "outputs": [
    {
     "name": "stdout",
     "output_type": "stream",
     "text": [
      "563/563 [==============================] - 18s 31ms/step\n"
     ]
    }
   ],
   "source": [
    "# Make predictions on the test data\n",
    "test_pred = cnn_model_2.predict(X_test)\n",
    "\n",
    "# Convert probabilities to class labels\n",
    "test_pred = np.argmax(test_pred, axis=-1)\n",
    "\n"
   ]
  },
  {
   "cell_type": "markdown",
   "metadata": {
    "id": "DrV1tOG0AjQI"
   },
   "source": [
    "**Note:** Earlier, we noticed that each entry of the target variable is a one-hot encoded vector, but to print the classification report and confusion matrix, we must convert each entry of y_test to a single label."
   ]
  },
  {
   "cell_type": "code",
   "execution_count": 56,
   "metadata": {
    "id": "dUSHU9W0AjQI"
   },
   "outputs": [],
   "source": [
    "# Assuming y_test is your one-hot encoded labels\n",
    "\n",
    "# Convert one-hot encoded labels to single labels\n",
    "y_test = np.argmax(y_test, axis=-1)"
   ]
  },
  {
   "cell_type": "markdown",
   "metadata": {
    "id": "aVCa-ysWKDN3"
   },
   "source": [
    "### **Write your final observations on the performance of the model on the test data.**"
   ]
  },
  {
   "cell_type": "code",
   "execution_count": 57,
   "metadata": {
    "colab": {
     "base_uri": "https://localhost:8080/",
     "height": 760
    },
    "id": "sOMq2rCJAjQJ",
    "outputId": "93c482a6-52f5-4946-afc6-e9a70ea0294f"
   },
   "outputs": [
    {
     "name": "stdout",
     "output_type": "stream",
     "text": [
      "              precision    recall  f1-score   support\n",
      "\n",
      "           0       0.90      0.95      0.93      1814\n",
      "           1       0.92      0.90      0.91      1828\n",
      "           2       0.93      0.93      0.93      1803\n",
      "           3       0.89      0.90      0.89      1719\n",
      "           4       0.93      0.92      0.92      1812\n",
      "           5       0.91      0.91      0.91      1768\n",
      "           6       0.89      0.90      0.90      1832\n",
      "           7       0.94      0.93      0.93      1808\n",
      "           8       0.92      0.88      0.90      1812\n",
      "           9       0.92      0.90      0.91      1804\n",
      "\n",
      "    accuracy                           0.91     18000\n",
      "   macro avg       0.91      0.91      0.91     18000\n",
      "weighted avg       0.91      0.91      0.91     18000\n",
      "\n"
     ]
    },
    {
     "data": {
      "image/png": "[encoded data removed]",
      "text/plain": [
       "<Figure size 800x500 with 2 Axes>"
      ]
     },
     "metadata": {},
     "output_type": "display_data"
    }
   ],
   "source": [
    "# Importing required functions\n",
    "\n",
    "from sklearn.metrics import classification_report\n",
    "\n",
    "from sklearn.metrics import confusion_matrix\n",
    "\n",
    "# Printing the classification report\n",
    "\n",
    "print(classification_report(y_test, test_pred))\n",
    "\n",
    "# Plotting the heatmap using confusion matrix\n",
    "\n",
    "cm = confusion_matrix(y_test, test_pred)\n",
    "\n",
    "plt.figure(figsize = (8, 5))\n",
    "\n",
    "sns.heatmap(cm, annot = True,  fmt = '.0f')\n",
    "\n",
    "plt.ylabel('Actual')\n",
    "\n",
    "plt.xlabel('Predicted')\n",
    "\n",
    "plt.show()"
   ]
  },
  {
   "cell_type": "markdown",
   "metadata": {
    "id": "TNN9v713AjQJ"
   },
   "source": [
    "**Final Observations:_________**\n",
    "We have seen two different iterations of the CNN model and two different iterations of ANN model and how to built an intuition about how to improve the model by tuning various hyperparameters and using different techniques. There is still plenty of scope for improvement and you can try out tuning different hyperparameters to improve the model performance.\n",
    "\n",
    "Based on the results, CNN model with the drop seems the best model with 91% accuracy"
   ]
  }
 ],
 "metadata": {
  "accelerator": "TPU",
  "colab": {
   "provenance": []
  },
  "kernelspec": {
   "display_name": "Python 3",
   "language": "python",
   "name": "python3"
  },
  "language_info": {
   "codemirror_mode": {
    "name": "ipython",
    "version": 3
   },
   "file_extension": ".py",
   "mimetype": "text/x-python",
   "name": "python",
   "nbconvert_exporter": "python",
   "pygments_lexer": "ipython3",
   "version": "3.8.5"
  }
 },
 "nbformat": 4,
 "nbformat_minor": 1
}
